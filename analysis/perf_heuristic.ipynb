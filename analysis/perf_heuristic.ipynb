{
 "cells": [
  {
   "cell_type": "code",
   "execution_count": 1,
   "id": "66329a7d-6c62-4ab2-871c-0f17fcf36e0f",
   "metadata": {},
   "outputs": [],
   "source": [
    "import numpy as np\n",
    "import pandas as pd\n",
    "import pickle\n",
    "import matplotlib.pyplot as plt\n",
    "\n",
    "from scipy import signal\n",
    "from sklearn.linear_model import SGDRegressor, LinearRegression\n",
    "from sklearn.tree import DecisionTreeRegressor\n",
    "from sklearn.ensemble import RandomForestRegressor\n",
    "from sklearn.neural_network import MLPRegressor\n",
    "from sklearn.svm import SVR\n",
    "from sklearn.decomposition import PCA\n",
    "from sklearn.metrics import mean_squared_error, mean_absolute_error"
   ]
  },
  {
   "cell_type": "code",
   "execution_count": 2,
   "id": "a2ee85e7-d025-424a-b7ea-07a48444cffe",
   "metadata": {},
   "outputs": [],
   "source": [
    "def percent_scaling(series):\n",
    "    return (series / 100)\n",
    "\n",
    "def cpu_scaling(series):\n",
    "    return (series * 4 / 100)\n",
    "\n",
    "def single_cpu_scaling(series):\n",
    "    return (((series - 100) * (-1)) / 100)\n",
    "\n",
    "def min_max_scaling(series):\n",
    "    return (series - series.min()) / (series.max() - series.min())\n",
    "\n",
    "k = 251\n",
    "latchup_start = 50000"
   ]
  },
  {
   "cell_type": "code",
   "execution_count": 3,
   "id": "523dce01-8d37-46e4-85c6-2a848e34f883",
   "metadata": {},
   "outputs": [],
   "source": [
    "def preprocess_df(df):\n",
    "    df['cache_hit_rate_0'] = (df['cache_hit_0'] - df['cache_miss_0']) / df['cache_hit_0']\n",
    "    df['cache_hit_rate_1'] = (df['cache_hit_0'] - df['cache_miss_1']) / df['cache_hit_1']\n",
    "    df['cache_hit_rate_2'] = (df['cache_hit_0'] - df['cache_miss_2']) / df['cache_hit_2']\n",
    "    df['cache_hit_rate_3'] = (df['cache_hit_0'] - df['cache_miss_3']) / df['cache_hit_3']\n",
    "    \n",
    "    df['br_miss_rate_0'] = df['br_miss_0'] / df['br_insns_0']\n",
    "    df['br_miss_rate_1'] = df['br_miss_1'] / df['br_insns_1']\n",
    "    df['br_miss_rate_2'] = df['br_miss_2'] / df['br_insns_2']\n",
    "    df['br_miss_rate_3'] = df['br_miss_3'] / df['br_insns_3']\n",
    "    \n",
    "    df['insns_0_norm'] = df['insns_0'] / (df['time'] - df['time'].shift())\n",
    "    df['insns_1_norm'] = df['insns_1'] / (df['time'] - df['time'].shift())\n",
    "    df['insns_2_norm'] = df['insns_2'] / (df['time'] - df['time'].shift())\n",
    "    df['insns_3_norm'] = df['insns_3'] / (df['time'] - df['time'].shift())\n",
    "    \n",
    "    df['cycles_0_norm'] = df['cpu_cycles_0'] / (df['time'] - df['time'].shift())\n",
    "    df['cycles_1_norm'] = df['cpu_cycles_1'] / (df['time'] - df['time'].shift())\n",
    "    df['cycles_2_norm'] = df['cpu_cycles_2'] / (df['time'] - df['time'].shift())\n",
    "    df['cycles_3_norm'] = df['cpu_cycles_3'] / (df['time'] - df['time'].shift())\n",
    "    \n",
    "    df['bus_cycles_0_norm'] = df['bus_cycles_0'] / (df['time'] - df['time'].shift())\n",
    "    df['bus_cycles_1_norm'] = df['bus_cycles_1'] / (df['time'] - df['time'].shift())\n",
    "    df['bus_cycles_2_norm'] = df['bus_cycles_2'] / (df['time'] - df['time'].shift())\n",
    "    df['bus_cycles_3_norm'] = df['bus_cycles_3'] / (df['time'] - df['time'].shift())\n",
    "\n",
    "    df['rd_ios_norm'] = df['rd_ios'] * 1000 / (df['time'] - df['time'].shift())\n",
    "    df['wr_ios_norm'] = df['wr_ios'] * 1000 / (df['time'] - df['time'].shift())\n",
    "\n",
    "    df['curr_filt'] = df['current'].rolling(window=k, center=True, min_periods=1).min()\n",
    "    \n",
    "    df.drop(df.tail(k//2).index,inplace=True)\n",
    "    df.drop(df.head(k//2).index,inplace=True)\n",
    "\n",
    "    return df"
   ]
  },
  {
   "cell_type": "code",
   "execution_count": 4,
   "id": "ab12d0de-a3c7-47d7-b023-55ab98a291ae",
   "metadata": {},
   "outputs": [
    {
     "data": {
      "text/html": [
       "<style>#sk-container-id-1 {color: black;}#sk-container-id-1 pre{padding: 0;}#sk-container-id-1 div.sk-toggleable {background-color: white;}#sk-container-id-1 label.sk-toggleable__label {cursor: pointer;display: block;width: 100%;margin-bottom: 0;padding: 0.3em;box-sizing: border-box;text-align: center;}#sk-container-id-1 label.sk-toggleable__label-arrow:before {content: \"▸\";float: left;margin-right: 0.25em;color: #696969;}#sk-container-id-1 label.sk-toggleable__label-arrow:hover:before {color: black;}#sk-container-id-1 div.sk-estimator:hover label.sk-toggleable__label-arrow:before {color: black;}#sk-container-id-1 div.sk-toggleable__content {max-height: 0;max-width: 0;overflow: hidden;text-align: left;background-color: #f0f8ff;}#sk-container-id-1 div.sk-toggleable__content pre {margin: 0.2em;color: black;border-radius: 0.25em;background-color: #f0f8ff;}#sk-container-id-1 input.sk-toggleable__control:checked~div.sk-toggleable__content {max-height: 200px;max-width: 100%;overflow: auto;}#sk-container-id-1 input.sk-toggleable__control:checked~label.sk-toggleable__label-arrow:before {content: \"▾\";}#sk-container-id-1 div.sk-estimator input.sk-toggleable__control:checked~label.sk-toggleable__label {background-color: #d4ebff;}#sk-container-id-1 div.sk-label input.sk-toggleable__control:checked~label.sk-toggleable__label {background-color: #d4ebff;}#sk-container-id-1 input.sk-hidden--visually {border: 0;clip: rect(1px 1px 1px 1px);clip: rect(1px, 1px, 1px, 1px);height: 1px;margin: -1px;overflow: hidden;padding: 0;position: absolute;width: 1px;}#sk-container-id-1 div.sk-estimator {font-family: monospace;background-color: #f0f8ff;border: 1px dotted black;border-radius: 0.25em;box-sizing: border-box;margin-bottom: 0.5em;}#sk-container-id-1 div.sk-estimator:hover {background-color: #d4ebff;}#sk-container-id-1 div.sk-parallel-item::after {content: \"\";width: 100%;border-bottom: 1px solid gray;flex-grow: 1;}#sk-container-id-1 div.sk-label:hover label.sk-toggleable__label {background-color: #d4ebff;}#sk-container-id-1 div.sk-serial::before {content: \"\";position: absolute;border-left: 1px solid gray;box-sizing: border-box;top: 0;bottom: 0;left: 50%;z-index: 0;}#sk-container-id-1 div.sk-serial {display: flex;flex-direction: column;align-items: center;background-color: white;padding-right: 0.2em;padding-left: 0.2em;position: relative;}#sk-container-id-1 div.sk-item {position: relative;z-index: 1;}#sk-container-id-1 div.sk-parallel {display: flex;align-items: stretch;justify-content: center;background-color: white;position: relative;}#sk-container-id-1 div.sk-item::before, #sk-container-id-1 div.sk-parallel-item::before {content: \"\";position: absolute;border-left: 1px solid gray;box-sizing: border-box;top: 0;bottom: 0;left: 50%;z-index: -1;}#sk-container-id-1 div.sk-parallel-item {display: flex;flex-direction: column;z-index: 1;position: relative;background-color: white;}#sk-container-id-1 div.sk-parallel-item:first-child::after {align-self: flex-end;width: 50%;}#sk-container-id-1 div.sk-parallel-item:last-child::after {align-self: flex-start;width: 50%;}#sk-container-id-1 div.sk-parallel-item:only-child::after {width: 0;}#sk-container-id-1 div.sk-dashed-wrapped {border: 1px dashed gray;margin: 0 0.4em 0.5em 0.4em;box-sizing: border-box;padding-bottom: 0.4em;background-color: white;}#sk-container-id-1 div.sk-label label {font-family: monospace;font-weight: bold;display: inline-block;line-height: 1.2em;}#sk-container-id-1 div.sk-label-container {text-align: center;}#sk-container-id-1 div.sk-container {/* jupyter's `normalize.less` sets `[hidden] { display: none; }` but bootstrap.min.css set `[hidden] { display: none !important; }` so we also need the `!important` here to be able to override the default hidden behavior on the sphinx rendered scikit-learn.org. See: https://github.com/scikit-learn/scikit-learn/issues/21755 */display: inline-block !important;position: relative;}#sk-container-id-1 div.sk-text-repr-fallback {display: none;}</style><div id=\"sk-container-id-1\" class=\"sk-top-container\"><div class=\"sk-text-repr-fallback\"><pre>LinearRegression(n_jobs=8)</pre><b>In a Jupyter environment, please rerun this cell to show the HTML representation or trust the notebook. <br />On GitHub, the HTML representation is unable to render, please try loading this page with nbviewer.org.</b></div><div class=\"sk-container\" hidden><div class=\"sk-item\"><div class=\"sk-estimator sk-toggleable\"><input class=\"sk-toggleable__control sk-hidden--visually\" id=\"sk-estimator-id-1\" type=\"checkbox\" checked><label for=\"sk-estimator-id-1\" class=\"sk-toggleable__label sk-toggleable__label-arrow\">LinearRegression</label><div class=\"sk-toggleable__content\"><pre>LinearRegression(n_jobs=8)</pre></div></div></div></div></div>"
      ],
      "text/plain": [
       "LinearRegression(n_jobs=8)"
      ]
     },
     "execution_count": 4,
     "metadata": {},
     "output_type": "execute_result"
    }
   ],
   "source": [
    "with open(\"model.pkl\", \"rb\") as f:\n",
    "    model = pickle.load(f)\n",
    "\n",
    "model"
   ]
  },
  {
   "cell_type": "code",
   "execution_count": 5,
   "id": "6b0b82d1-ae8a-4b46-8570-ca90581313d9",
   "metadata": {},
   "outputs": [],
   "source": [
    "latchup_df = pd.read_csv('../results/disk-idle.csv')\n",
    "latchup_df.loc[latchup_start:,'current'] += 0.08\n",
    "\n",
    "latchup_df = preprocess_df(latchup_df)\n",
    "\n",
    "X_test = latchup_df[['insns_0_norm', 'insns_1_norm', 'insns_2_norm', 'insns_3_norm',\n",
    "                     'bus_cycles_0_norm', 'bus_cycles_1_norm', 'bus_cycles_2_norm', 'bus_cycles_3_norm',\n",
    "                     'br_miss_rate_0', 'br_miss_rate_1', 'br_miss_rate_2', 'br_miss_rate_3',\n",
    "                     'rd_ios_norm','wr_ios_norm',\n",
    "                     'freq_0', 'freq_1', 'freq_2', 'freq_3',\n",
    "                     'cache_hit_rate_0', 'cache_hit_rate_1', 'cache_hit_rate_2', 'cache_hit_rate_3']]\n",
    "Y_test = latchup_df['curr_filt']\n",
    "latchup_df['curr_pred'] = model.predict(X_test)\n",
    "\n",
    "latchup_df['curr_pred_min'] = latchup_df['curr_pred'].rolling(window=k, center=True, min_periods=1).min()"
   ]
  },
  {
   "cell_type": "code",
   "execution_count": 6,
   "id": "de71c4c6-15da-4f0d-a706-5008c6adf95f",
   "metadata": {},
   "outputs": [
    {
     "data": {
      "text/plain": [
       "Text(0, 0.5, 'Current (Amperes)')"
      ]
     },
     "execution_count": 6,
     "metadata": {},
     "output_type": "execute_result"
    },
    {
     "data": {
      "image/png": "[encoded data removed]",
      "text/plain": [
       "<Figure size 800x600 with 1 Axes>"
      ]
     },
     "metadata": {},
     "output_type": "display_data"
    }
   ],
   "source": [
    "fig = plt.figure(figsize=(8, 6))\n",
    "ax = plt.gca()\n",
    "\n",
    "plt.scatter(latchup_df['time'], latchup_df['curr_pred_min'], label='predicted', s=1)\n",
    "plt.scatter(latchup_df['time'], latchup_df['curr_filt'], label='actual', s=1)\n",
    "plt.legend(['Predicted Current', 'Actual Current'], loc='upper left')\n",
    "ax.set_xlabel(\"Time (microseconds)\")\n",
    "ax.set_ylabel(\"Current (Amperes)\")"
   ]
  },
  {
   "cell_type": "code",
   "execution_count": 12,
   "id": "2e72658f-b818-4897-9cde-2b1c56932e5f",
   "metadata": {},
   "outputs": [
    {
     "data": {
      "text/plain": [
       "(True, 43849, 7825)"
      ]
     },
     "execution_count": 12,
     "metadata": {},
     "output_type": "execute_result"
    }
   ],
   "source": [
    "def detect_latchup(df, start):\n",
    "    over_count = 0\n",
    "    under_count = 0\n",
    "    end_time = latchup_df.loc[start, 'time'] + 3000000\n",
    "\n",
    "    for row, entry in df.iterrows():\n",
    "        if entry['time'] > end_time:\n",
    "            break\n",
    "\n",
    "        if entry['curr_pred_min'] < entry['curr_filt']:\n",
    "            over_count += 1\n",
    "        elif entry['curr_pred_min'] > entry['curr_filt']:\n",
    "            under_count += 1\n",
    "\n",
    "\n",
    "    if over_count / (under_count + over_count) > 0.84:\n",
    "        return (True, over_count, under_count)\n",
    "    else:\n",
    "        return (False, over_count, under_count)\n",
    "\n",
    "detect_latchup(latchup_df, latchup_start)"
   ]
  },
  {
   "cell_type": "code",
   "execution_count": 15,
   "id": "3cfa791d-ef34-4486-ac6d-4bc1ae155964",
   "metadata": {},
   "outputs": [
    {
     "data": {
      "text/plain": [
       "0.09146341463414634"
      ]
     },
     "execution_count": 15,
     "metadata": {},
     "output_type": "execute_result"
    }
   ],
   "source": [
    "errs = []\n",
    "for i in range(1000, latchup_start, 300):\n",
    "    is_latchup, over_count, under_count = detect_latchup(latchup_df, i)\n",
    "    if is_latchup:\n",
    "        errs.append((i, over_count, under_count))\n",
    "\n",
    "len(errs)/len(range(1000, latchup_start, 300))"
   ]
  }
 ],
 "metadata": {
  "kernelspec": {
   "display_name": "Python 3 (ipykernel)",
   "language": "python",
   "name": "python3"
  },
  "language_info": {
   "codemirror_mode": {
    "name": "ipython",
    "version": 3
   },
   "file_extension": ".py",
   "mimetype": "text/x-python",
   "name": "python",
   "nbconvert_exporter": "python",
   "pygments_lexer": "ipython3",
   "version": "3.11.6"
  }
 },
 "nbformat": 4,
 "nbformat_minor": 5
}
